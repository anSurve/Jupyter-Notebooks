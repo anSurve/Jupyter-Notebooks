{
 "cells": [
  {
   "cell_type": "markdown",
   "metadata": {},
   "source": [
    "# <p id=\"Top\">NSE Stocks analysis for year 2018\n",
    "\n",
    "<img src=\"img/stocks.jpg\" style=\"height : 250px;width:100%\">\n",
    "\n",
    "\n",
    "## I have selected TechM, Cipla & DMart stocks for this analysis.\n",
    "#### There are following key featues\n",
    "#### 1. [Fetching data from NSE](#FetchData)\n",
    "#### 2. [Calculate Rolling Mean](#RollingMean)\n",
    "#### 3. [Plot a graph](#GraphPlot)\n",
    "#### 4. [Plot a graph with 2 Y axis](#graphwith2yaxis)\n",
    "#### 5. [Check stock price deviation from original price](#stockDeviation)\n",
    "#### 6. [Merge all Stocks in a single DataFrame Object](#allStocks)\n",
    "#### 7. [Calculate the returns for the stocks](#CalculateReturns)\n",
    "#### 8. [Pairplot for returns](#pairplot)\n",
    "#### 9. [Calculate correlation for returns of the stocks](#correlation)\n",
    "#### 10. [Heatmap & cluster heatmap for returns correlation](#Heatmap)"
   ]
  },
  {
   "cell_type": "code",
   "execution_count": 1,
   "metadata": {},
   "outputs": [],
   "source": [
    "from datetime import date\n",
    "from nsepy import  get_history\n",
    "import pandas as pd\n",
    "import matplotlib.pyplot as plt\n",
    "import matplotlib as mpl\n",
    "import seaborn as sns\n",
    "%matplotlib inline"
   ]
  },
  {
   "cell_type": "markdown",
   "metadata": {},
   "source": [
    "### <p id=\"FetchData\">Fetching Data from NSE </p>\n",
    "[<div style=\"float:right;margin-top:-50px\">Go to Top</div>](#Top)"
   ]
  },
  {
   "cell_type": "code",
   "execution_count": 2,
   "metadata": {},
   "outputs": [],
   "source": [
    "vstart=date(2018,1,1)\n",
    "vend=date(2019,1,1)\n",
    "techm = get_history(symbol='TECHM',start=vstart,end=vend)\n",
    "cipla = get_history(symbol='CIPLA',start=vstart,end=vend)\n",
    "dmart = get_history(symbol='DMART',start=vstart,end=vend)"
   ]
  },
  {
   "cell_type": "code",
   "execution_count": 3,
   "metadata": {},
   "outputs": [
    {
     "data": {
      "text/html": [
       "<div>\n",
       "<style scoped>\n",
       "    .dataframe tbody tr th:only-of-type {\n",
       "        vertical-align: middle;\n",
       "    }\n",
       "\n",
       "    .dataframe tbody tr th {\n",
       "        vertical-align: top;\n",
       "    }\n",
       "\n",
       "    .dataframe thead th {\n",
       "        text-align: right;\n",
       "    }\n",
       "</style>\n",
       "<table border=\"1\" class=\"dataframe\">\n",
       "  <thead>\n",
       "    <tr style=\"text-align: right;\">\n",
       "      <th></th>\n",
       "      <th>Symbol</th>\n",
       "      <th>Series</th>\n",
       "      <th>Prev Close</th>\n",
       "      <th>Open</th>\n",
       "      <th>High</th>\n",
       "      <th>Low</th>\n",
       "      <th>Last</th>\n",
       "      <th>Close</th>\n",
       "      <th>VWAP</th>\n",
       "      <th>Volume</th>\n",
       "      <th>Turnover</th>\n",
       "      <th>Trades</th>\n",
       "      <th>Deliverable Volume</th>\n",
       "      <th>%Deliverble</th>\n",
       "    </tr>\n",
       "    <tr>\n",
       "      <th>Date</th>\n",
       "      <th></th>\n",
       "      <th></th>\n",
       "      <th></th>\n",
       "      <th></th>\n",
       "      <th></th>\n",
       "      <th></th>\n",
       "      <th></th>\n",
       "      <th></th>\n",
       "      <th></th>\n",
       "      <th></th>\n",
       "      <th></th>\n",
       "      <th></th>\n",
       "      <th></th>\n",
       "      <th></th>\n",
       "    </tr>\n",
       "  </thead>\n",
       "  <tbody>\n",
       "    <tr>\n",
       "      <th>2018-12-26</th>\n",
       "      <td>TECHM</td>\n",
       "      <td>EQ</td>\n",
       "      <td>697.90</td>\n",
       "      <td>695.9</td>\n",
       "      <td>697.90</td>\n",
       "      <td>686.00</td>\n",
       "      <td>695.50</td>\n",
       "      <td>693.55</td>\n",
       "      <td>690.50</td>\n",
       "      <td>1881689</td>\n",
       "      <td>1.299298e+14</td>\n",
       "      <td>49065</td>\n",
       "      <td>713908</td>\n",
       "      <td>0.3794</td>\n",
       "    </tr>\n",
       "    <tr>\n",
       "      <th>2018-12-27</th>\n",
       "      <td>TECHM</td>\n",
       "      <td>EQ</td>\n",
       "      <td>693.55</td>\n",
       "      <td>702.0</td>\n",
       "      <td>713.50</td>\n",
       "      <td>696.15</td>\n",
       "      <td>708.90</td>\n",
       "      <td>708.90</td>\n",
       "      <td>707.60</td>\n",
       "      <td>3018106</td>\n",
       "      <td>2.135626e+14</td>\n",
       "      <td>68600</td>\n",
       "      <td>771251</td>\n",
       "      <td>0.2555</td>\n",
       "    </tr>\n",
       "    <tr>\n",
       "      <th>2018-12-28</th>\n",
       "      <td>TECHM</td>\n",
       "      <td>EQ</td>\n",
       "      <td>708.90</td>\n",
       "      <td>710.0</td>\n",
       "      <td>718.40</td>\n",
       "      <td>710.00</td>\n",
       "      <td>713.00</td>\n",
       "      <td>714.00</td>\n",
       "      <td>714.09</td>\n",
       "      <td>1863654</td>\n",
       "      <td>1.330810e+14</td>\n",
       "      <td>55310</td>\n",
       "      <td>500507</td>\n",
       "      <td>0.2686</td>\n",
       "    </tr>\n",
       "    <tr>\n",
       "      <th>2018-12-31</th>\n",
       "      <td>TECHM</td>\n",
       "      <td>EQ</td>\n",
       "      <td>714.00</td>\n",
       "      <td>720.0</td>\n",
       "      <td>726.45</td>\n",
       "      <td>715.10</td>\n",
       "      <td>721.65</td>\n",
       "      <td>723.15</td>\n",
       "      <td>719.99</td>\n",
       "      <td>1814655</td>\n",
       "      <td>1.306529e+14</td>\n",
       "      <td>44878</td>\n",
       "      <td>551860</td>\n",
       "      <td>0.3041</td>\n",
       "    </tr>\n",
       "    <tr>\n",
       "      <th>2019-01-01</th>\n",
       "      <td>TECHM</td>\n",
       "      <td>EQ</td>\n",
       "      <td>723.15</td>\n",
       "      <td>715.0</td>\n",
       "      <td>721.45</td>\n",
       "      <td>715.00</td>\n",
       "      <td>720.60</td>\n",
       "      <td>719.10</td>\n",
       "      <td>718.29</td>\n",
       "      <td>815535</td>\n",
       "      <td>5.857868e+13</td>\n",
       "      <td>18357</td>\n",
       "      <td>125917</td>\n",
       "      <td>0.1544</td>\n",
       "    </tr>\n",
       "  </tbody>\n",
       "</table>\n",
       "</div>"
      ],
      "text/plain": [
       "           Symbol Series  Prev Close   Open    High     Low    Last   Close  \\\n",
       "Date                                                                          \n",
       "2018-12-26  TECHM     EQ      697.90  695.9  697.90  686.00  695.50  693.55   \n",
       "2018-12-27  TECHM     EQ      693.55  702.0  713.50  696.15  708.90  708.90   \n",
       "2018-12-28  TECHM     EQ      708.90  710.0  718.40  710.00  713.00  714.00   \n",
       "2018-12-31  TECHM     EQ      714.00  720.0  726.45  715.10  721.65  723.15   \n",
       "2019-01-01  TECHM     EQ      723.15  715.0  721.45  715.00  720.60  719.10   \n",
       "\n",
       "              VWAP   Volume      Turnover  Trades  Deliverable Volume  \\\n",
       "Date                                                                    \n",
       "2018-12-26  690.50  1881689  1.299298e+14   49065              713908   \n",
       "2018-12-27  707.60  3018106  2.135626e+14   68600              771251   \n",
       "2018-12-28  714.09  1863654  1.330810e+14   55310              500507   \n",
       "2018-12-31  719.99  1814655  1.306529e+14   44878              551860   \n",
       "2019-01-01  718.29   815535  5.857868e+13   18357              125917   \n",
       "\n",
       "            %Deliverble  \n",
       "Date                     \n",
       "2018-12-26       0.3794  \n",
       "2018-12-27       0.2555  \n",
       "2018-12-28       0.2686  \n",
       "2018-12-31       0.3041  \n",
       "2019-01-01       0.1544  "
      ]
     },
     "execution_count": 3,
     "metadata": {},
     "output_type": "execute_result"
    }
   ],
   "source": [
    "techm.tail(5)"
   ]
  },
  {
   "cell_type": "code",
   "execution_count": 4,
   "metadata": {},
   "outputs": [
    {
     "data": {
      "text/html": [
       "<div>\n",
       "<style scoped>\n",
       "    .dataframe tbody tr th:only-of-type {\n",
       "        vertical-align: middle;\n",
       "    }\n",
       "\n",
       "    .dataframe tbody tr th {\n",
       "        vertical-align: top;\n",
       "    }\n",
       "\n",
       "    .dataframe thead th {\n",
       "        text-align: right;\n",
       "    }\n",
       "</style>\n",
       "<table border=\"1\" class=\"dataframe\">\n",
       "  <thead>\n",
       "    <tr style=\"text-align: right;\">\n",
       "      <th></th>\n",
       "      <th>Symbol</th>\n",
       "      <th>Series</th>\n",
       "      <th>Prev Close</th>\n",
       "      <th>Open</th>\n",
       "      <th>High</th>\n",
       "      <th>Low</th>\n",
       "      <th>Last</th>\n",
       "      <th>Close</th>\n",
       "      <th>VWAP</th>\n",
       "      <th>Volume</th>\n",
       "      <th>Turnover</th>\n",
       "      <th>Trades</th>\n",
       "      <th>Deliverable Volume</th>\n",
       "      <th>%Deliverble</th>\n",
       "    </tr>\n",
       "    <tr>\n",
       "      <th>Date</th>\n",
       "      <th></th>\n",
       "      <th></th>\n",
       "      <th></th>\n",
       "      <th></th>\n",
       "      <th></th>\n",
       "      <th></th>\n",
       "      <th></th>\n",
       "      <th></th>\n",
       "      <th></th>\n",
       "      <th></th>\n",
       "      <th></th>\n",
       "      <th></th>\n",
       "      <th></th>\n",
       "      <th></th>\n",
       "    </tr>\n",
       "  </thead>\n",
       "  <tbody>\n",
       "    <tr>\n",
       "      <th>2018-12-26</th>\n",
       "      <td>CIPLA</td>\n",
       "      <td>EQ</td>\n",
       "      <td>518.8</td>\n",
       "      <td>515.6</td>\n",
       "      <td>519.00</td>\n",
       "      <td>507.30</td>\n",
       "      <td>515.00</td>\n",
       "      <td>514.30</td>\n",
       "      <td>512.19</td>\n",
       "      <td>1318560</td>\n",
       "      <td>6.753481e+13</td>\n",
       "      <td>27138</td>\n",
       "      <td>348578</td>\n",
       "      <td>0.2644</td>\n",
       "    </tr>\n",
       "    <tr>\n",
       "      <th>2018-12-27</th>\n",
       "      <td>CIPLA</td>\n",
       "      <td>EQ</td>\n",
       "      <td>514.3</td>\n",
       "      <td>518.9</td>\n",
       "      <td>521.00</td>\n",
       "      <td>514.00</td>\n",
       "      <td>520.40</td>\n",
       "      <td>517.90</td>\n",
       "      <td>517.02</td>\n",
       "      <td>1351636</td>\n",
       "      <td>6.988293e+13</td>\n",
       "      <td>37001</td>\n",
       "      <td>467805</td>\n",
       "      <td>0.3461</td>\n",
       "    </tr>\n",
       "    <tr>\n",
       "      <th>2018-12-28</th>\n",
       "      <td>CIPLA</td>\n",
       "      <td>EQ</td>\n",
       "      <td>517.9</td>\n",
       "      <td>514.3</td>\n",
       "      <td>525.35</td>\n",
       "      <td>514.30</td>\n",
       "      <td>522.00</td>\n",
       "      <td>522.00</td>\n",
       "      <td>522.62</td>\n",
       "      <td>1933464</td>\n",
       "      <td>1.010465e+14</td>\n",
       "      <td>36662</td>\n",
       "      <td>640619</td>\n",
       "      <td>0.3313</td>\n",
       "    </tr>\n",
       "    <tr>\n",
       "      <th>2018-12-31</th>\n",
       "      <td>CIPLA</td>\n",
       "      <td>EQ</td>\n",
       "      <td>522.0</td>\n",
       "      <td>522.0</td>\n",
       "      <td>526.00</td>\n",
       "      <td>517.20</td>\n",
       "      <td>519.00</td>\n",
       "      <td>519.50</td>\n",
       "      <td>519.89</td>\n",
       "      <td>1897948</td>\n",
       "      <td>9.867300e+13</td>\n",
       "      <td>40937</td>\n",
       "      <td>689375</td>\n",
       "      <td>0.3632</td>\n",
       "    </tr>\n",
       "    <tr>\n",
       "      <th>2019-01-01</th>\n",
       "      <td>CIPLA</td>\n",
       "      <td>EQ</td>\n",
       "      <td>519.5</td>\n",
       "      <td>520.0</td>\n",
       "      <td>524.00</td>\n",
       "      <td>518.65</td>\n",
       "      <td>522.75</td>\n",
       "      <td>523.05</td>\n",
       "      <td>522.02</td>\n",
       "      <td>1361809</td>\n",
       "      <td>7.108979e+13</td>\n",
       "      <td>19012</td>\n",
       "      <td>489802</td>\n",
       "      <td>0.3597</td>\n",
       "    </tr>\n",
       "  </tbody>\n",
       "</table>\n",
       "</div>"
      ],
      "text/plain": [
       "           Symbol Series  Prev Close   Open    High     Low    Last   Close  \\\n",
       "Date                                                                          \n",
       "2018-12-26  CIPLA     EQ       518.8  515.6  519.00  507.30  515.00  514.30   \n",
       "2018-12-27  CIPLA     EQ       514.3  518.9  521.00  514.00  520.40  517.90   \n",
       "2018-12-28  CIPLA     EQ       517.9  514.3  525.35  514.30  522.00  522.00   \n",
       "2018-12-31  CIPLA     EQ       522.0  522.0  526.00  517.20  519.00  519.50   \n",
       "2019-01-01  CIPLA     EQ       519.5  520.0  524.00  518.65  522.75  523.05   \n",
       "\n",
       "              VWAP   Volume      Turnover  Trades  Deliverable Volume  \\\n",
       "Date                                                                    \n",
       "2018-12-26  512.19  1318560  6.753481e+13   27138              348578   \n",
       "2018-12-27  517.02  1351636  6.988293e+13   37001              467805   \n",
       "2018-12-28  522.62  1933464  1.010465e+14   36662              640619   \n",
       "2018-12-31  519.89  1897948  9.867300e+13   40937              689375   \n",
       "2019-01-01  522.02  1361809  7.108979e+13   19012              489802   \n",
       "\n",
       "            %Deliverble  \n",
       "Date                     \n",
       "2018-12-26       0.2644  \n",
       "2018-12-27       0.3461  \n",
       "2018-12-28       0.3313  \n",
       "2018-12-31       0.3632  \n",
       "2019-01-01       0.3597  "
      ]
     },
     "execution_count": 4,
     "metadata": {},
     "output_type": "execute_result"
    }
   ],
   "source": [
    "cipla.tail(5)"
   ]
  },
  {
   "cell_type": "code",
   "execution_count": 5,
   "metadata": {},
   "outputs": [
    {
     "data": {
      "text/html": [
       "<div>\n",
       "<style scoped>\n",
       "    .dataframe tbody tr th:only-of-type {\n",
       "        vertical-align: middle;\n",
       "    }\n",
       "\n",
       "    .dataframe tbody tr th {\n",
       "        vertical-align: top;\n",
       "    }\n",
       "\n",
       "    .dataframe thead th {\n",
       "        text-align: right;\n",
       "    }\n",
       "</style>\n",
       "<table border=\"1\" class=\"dataframe\">\n",
       "  <thead>\n",
       "    <tr style=\"text-align: right;\">\n",
       "      <th></th>\n",
       "      <th>Symbol</th>\n",
       "      <th>Series</th>\n",
       "      <th>Prev Close</th>\n",
       "      <th>Open</th>\n",
       "      <th>High</th>\n",
       "      <th>Low</th>\n",
       "      <th>Last</th>\n",
       "      <th>Close</th>\n",
       "      <th>VWAP</th>\n",
       "      <th>Volume</th>\n",
       "      <th>Turnover</th>\n",
       "      <th>Trades</th>\n",
       "      <th>Deliverable Volume</th>\n",
       "      <th>%Deliverble</th>\n",
       "    </tr>\n",
       "    <tr>\n",
       "      <th>Date</th>\n",
       "      <th></th>\n",
       "      <th></th>\n",
       "      <th></th>\n",
       "      <th></th>\n",
       "      <th></th>\n",
       "      <th></th>\n",
       "      <th></th>\n",
       "      <th></th>\n",
       "      <th></th>\n",
       "      <th></th>\n",
       "      <th></th>\n",
       "      <th></th>\n",
       "      <th></th>\n",
       "      <th></th>\n",
       "    </tr>\n",
       "  </thead>\n",
       "  <tbody>\n",
       "    <tr>\n",
       "      <th>2018-12-26</th>\n",
       "      <td>DMART</td>\n",
       "      <td>EQ</td>\n",
       "      <td>1545.75</td>\n",
       "      <td>1534.7</td>\n",
       "      <td>1562.90</td>\n",
       "      <td>1501.30</td>\n",
       "      <td>1554.0</td>\n",
       "      <td>1554.85</td>\n",
       "      <td>1535.33</td>\n",
       "      <td>544718</td>\n",
       "      <td>8.363226e+13</td>\n",
       "      <td>23587</td>\n",
       "      <td>67264</td>\n",
       "      <td>0.1235</td>\n",
       "    </tr>\n",
       "    <tr>\n",
       "      <th>2018-12-27</th>\n",
       "      <td>DMART</td>\n",
       "      <td>EQ</td>\n",
       "      <td>1554.85</td>\n",
       "      <td>1565.0</td>\n",
       "      <td>1578.00</td>\n",
       "      <td>1558.05</td>\n",
       "      <td>1571.0</td>\n",
       "      <td>1570.15</td>\n",
       "      <td>1569.25</td>\n",
       "      <td>260792</td>\n",
       "      <td>4.092468e+13</td>\n",
       "      <td>12694</td>\n",
       "      <td>64014</td>\n",
       "      <td>0.2455</td>\n",
       "    </tr>\n",
       "    <tr>\n",
       "      <th>2018-12-28</th>\n",
       "      <td>DMART</td>\n",
       "      <td>EQ</td>\n",
       "      <td>1570.15</td>\n",
       "      <td>1580.0</td>\n",
       "      <td>1669.50</td>\n",
       "      <td>1574.00</td>\n",
       "      <td>1656.0</td>\n",
       "      <td>1654.95</td>\n",
       "      <td>1628.66</td>\n",
       "      <td>1053408</td>\n",
       "      <td>1.715648e+14</td>\n",
       "      <td>42197</td>\n",
       "      <td>264618</td>\n",
       "      <td>0.2512</td>\n",
       "    </tr>\n",
       "    <tr>\n",
       "      <th>2018-12-31</th>\n",
       "      <td>DMART</td>\n",
       "      <td>EQ</td>\n",
       "      <td>1654.95</td>\n",
       "      <td>1660.0</td>\n",
       "      <td>1678.55</td>\n",
       "      <td>1595.00</td>\n",
       "      <td>1605.7</td>\n",
       "      <td>1606.65</td>\n",
       "      <td>1627.74</td>\n",
       "      <td>1175518</td>\n",
       "      <td>1.913434e+14</td>\n",
       "      <td>49363</td>\n",
       "      <td>239950</td>\n",
       "      <td>0.2041</td>\n",
       "    </tr>\n",
       "    <tr>\n",
       "      <th>2019-01-01</th>\n",
       "      <td>DMART</td>\n",
       "      <td>EQ</td>\n",
       "      <td>1606.65</td>\n",
       "      <td>1610.0</td>\n",
       "      <td>1620.75</td>\n",
       "      <td>1586.05</td>\n",
       "      <td>1590.0</td>\n",
       "      <td>1590.75</td>\n",
       "      <td>1597.45</td>\n",
       "      <td>542359</td>\n",
       "      <td>8.663935e+13</td>\n",
       "      <td>22278</td>\n",
       "      <td>107907</td>\n",
       "      <td>0.1990</td>\n",
       "    </tr>\n",
       "  </tbody>\n",
       "</table>\n",
       "</div>"
      ],
      "text/plain": [
       "           Symbol Series  Prev Close    Open     High      Low    Last  \\\n",
       "Date                                                                     \n",
       "2018-12-26  DMART     EQ     1545.75  1534.7  1562.90  1501.30  1554.0   \n",
       "2018-12-27  DMART     EQ     1554.85  1565.0  1578.00  1558.05  1571.0   \n",
       "2018-12-28  DMART     EQ     1570.15  1580.0  1669.50  1574.00  1656.0   \n",
       "2018-12-31  DMART     EQ     1654.95  1660.0  1678.55  1595.00  1605.7   \n",
       "2019-01-01  DMART     EQ     1606.65  1610.0  1620.75  1586.05  1590.0   \n",
       "\n",
       "              Close     VWAP   Volume      Turnover  Trades  \\\n",
       "Date                                                          \n",
       "2018-12-26  1554.85  1535.33   544718  8.363226e+13   23587   \n",
       "2018-12-27  1570.15  1569.25   260792  4.092468e+13   12694   \n",
       "2018-12-28  1654.95  1628.66  1053408  1.715648e+14   42197   \n",
       "2018-12-31  1606.65  1627.74  1175518  1.913434e+14   49363   \n",
       "2019-01-01  1590.75  1597.45   542359  8.663935e+13   22278   \n",
       "\n",
       "            Deliverable Volume  %Deliverble  \n",
       "Date                                         \n",
       "2018-12-26               67264       0.1235  \n",
       "2018-12-27               64014       0.2455  \n",
       "2018-12-28              264618       0.2512  \n",
       "2018-12-31              239950       0.2041  \n",
       "2019-01-01              107907       0.1990  "
      ]
     },
     "execution_count": 5,
     "metadata": {},
     "output_type": "execute_result"
    }
   ],
   "source": [
    "dmart.tail(5)"
   ]
  },
  {
   "cell_type": "markdown",
   "metadata": {},
   "source": [
    "### <p id=\"RollingMean\">Calculate rolling mean</p>\n",
    "It's always better to consider more days while observing a stock. Rolling mean calculates average of the given number of days to fulfill this requirement.\n",
    "[<div style=\"float:right\">Go to Top</div>](#Top)"
   ]
  },
  {
   "cell_type": "code",
   "execution_count": 6,
   "metadata": {},
   "outputs": [
    {
     "data": {
      "text/plain": [
       "Date\n",
       "2018-01-01        NaN\n",
       "2018-01-02        NaN\n",
       "2018-01-03        NaN\n",
       "2018-01-04        NaN\n",
       "2018-01-05    1192.31\n",
       "2018-01-08    1203.57\n",
       "2018-01-09    1218.39\n",
       "2018-01-10    1231.34\n",
       "2018-01-11    1239.82\n",
       "2018-01-12    1238.06\n",
       "2018-01-15    1238.47\n",
       "2018-01-16    1229.05\n",
       "2018-01-17    1212.66\n",
       "2018-01-18    1190.65\n",
       "2018-01-19    1172.60\n",
       "Name: Close, dtype: float64"
      ]
     },
     "execution_count": 6,
     "metadata": {},
     "output_type": "execute_result"
    }
   ],
   "source": [
    "techm_mov_avg = techm.Close.rolling(5).mean()\n",
    "cipla_mov_avg = cipla.Close.rolling(5).mean()\n",
    "dmart_mov_avg = dmart.Close.rolling(5).mean()\n",
    "dmart_mov_avg.head(15)"
   ]
  },
  {
   "cell_type": "markdown",
   "metadata": {},
   "source": [
    "### <p id =\"GraphPlot\">Plot a graph</p>\n",
    "[<div style=\"float:right;margin-top:-50px\">Go to Top</div>](#Top)"
   ]
  },
  {
   "cell_type": "code",
   "execution_count": 7,
   "metadata": {},
   "outputs": [
    {
     "data": {
      "image/png": "[encoded data removed]",
      "text/plain": [
       "<Figure size 432x288 with 1 Axes>"
      ]
     },
     "metadata": {
      "needs_background": "light"
     },
     "output_type": "display_data"
    }
   ],
   "source": [
    "techm_mov_avg.plot(label='TechM')\n",
    "dmart_mov_avg.plot(label='DMart')\n",
    "cipla_mov_avg.plot(label='Cipla')\n",
    "plt.legend()\n",
    "plt.show()"
   ]
  },
  {
   "cell_type": "code",
   "execution_count": 8,
   "metadata": {},
   "outputs": [
    {
     "data": {
      "text/html": [
       "<div>\n",
       "<style scoped>\n",
       "    .dataframe tbody tr th:only-of-type {\n",
       "        vertical-align: middle;\n",
       "    }\n",
       "\n",
       "    .dataframe tbody tr th {\n",
       "        vertical-align: top;\n",
       "    }\n",
       "\n",
       "    .dataframe thead th {\n",
       "        text-align: right;\n",
       "    }\n",
       "</style>\n",
       "<table border=\"1\" class=\"dataframe\">\n",
       "  <thead>\n",
       "    <tr style=\"text-align: right;\">\n",
       "      <th></th>\n",
       "      <th>TechM</th>\n",
       "      <th>Cipla</th>\n",
       "      <th>DMart</th>\n",
       "    </tr>\n",
       "    <tr>\n",
       "      <th>Date</th>\n",
       "      <th></th>\n",
       "      <th></th>\n",
       "      <th></th>\n",
       "    </tr>\n",
       "  </thead>\n",
       "  <tbody>\n",
       "    <tr>\n",
       "      <th>2018-01-08</th>\n",
       "      <td>523.54</td>\n",
       "      <td>612.31</td>\n",
       "      <td>1203.57</td>\n",
       "    </tr>\n",
       "    <tr>\n",
       "      <th>2018-01-09</th>\n",
       "      <td>527.52</td>\n",
       "      <td>613.87</td>\n",
       "      <td>1218.39</td>\n",
       "    </tr>\n",
       "    <tr>\n",
       "      <th>2018-01-10</th>\n",
       "      <td>532.05</td>\n",
       "      <td>616.46</td>\n",
       "      <td>1231.34</td>\n",
       "    </tr>\n",
       "    <tr>\n",
       "      <th>2018-01-11</th>\n",
       "      <td>537.88</td>\n",
       "      <td>615.58</td>\n",
       "      <td>1239.82</td>\n",
       "    </tr>\n",
       "    <tr>\n",
       "      <th>2018-01-12</th>\n",
       "      <td>542.94</td>\n",
       "      <td>614.97</td>\n",
       "      <td>1238.06</td>\n",
       "    </tr>\n",
       "    <tr>\n",
       "      <th>2018-01-15</th>\n",
       "      <td>544.43</td>\n",
       "      <td>614.01</td>\n",
       "      <td>1238.47</td>\n",
       "    </tr>\n",
       "    <tr>\n",
       "      <th>2018-01-16</th>\n",
       "      <td>549.19</td>\n",
       "      <td>611.17</td>\n",
       "      <td>1229.05</td>\n",
       "    </tr>\n",
       "    <tr>\n",
       "      <th>2018-01-17</th>\n",
       "      <td>551.75</td>\n",
       "      <td>608.65</td>\n",
       "      <td>1212.66</td>\n",
       "    </tr>\n",
       "    <tr>\n",
       "      <th>2018-01-18</th>\n",
       "      <td>551.94</td>\n",
       "      <td>606.91</td>\n",
       "      <td>1190.65</td>\n",
       "    </tr>\n",
       "    <tr>\n",
       "      <th>2018-01-19</th>\n",
       "      <td>552.37</td>\n",
       "      <td>605.04</td>\n",
       "      <td>1172.60</td>\n",
       "    </tr>\n",
       "  </tbody>\n",
       "</table>\n",
       "</div>"
      ],
      "text/plain": [
       "             TechM   Cipla    DMart\n",
       "Date                               \n",
       "2018-01-08  523.54  612.31  1203.57\n",
       "2018-01-09  527.52  613.87  1218.39\n",
       "2018-01-10  532.05  616.46  1231.34\n",
       "2018-01-11  537.88  615.58  1239.82\n",
       "2018-01-12  542.94  614.97  1238.06\n",
       "2018-01-15  544.43  614.01  1238.47\n",
       "2018-01-16  549.19  611.17  1229.05\n",
       "2018-01-17  551.75  608.65  1212.66\n",
       "2018-01-18  551.94  606.91  1190.65\n",
       "2018-01-19  552.37  605.04  1172.60"
      ]
     },
     "execution_count": 8,
     "metadata": {},
     "output_type": "execute_result"
    }
   ],
   "source": [
    "stocks = pd.DataFrame({'TechM':techm_mov_avg,\n",
    "                       'Cipla':cipla_mov_avg,\n",
    "                       'DMart':dmart_mov_avg})\n",
    "stocks = stocks[5:]\n",
    "stocks.head(10)"
   ]
  },
  {
   "cell_type": "code",
   "execution_count": 9,
   "metadata": {},
   "outputs": [
    {
     "data": {
      "text/plain": [
       "<matplotlib.axes._subplots.AxesSubplot at 0x7f7ceb0639b0>"
      ]
     },
     "execution_count": 9,
     "metadata": {},
     "output_type": "execute_result"
    },
    {
     "data": {
      "image/png": "[encoded data removed]",
      "text/plain": [
       "<Figure size 432x288 with 1 Axes>"
      ]
     },
     "metadata": {
      "needs_background": "light"
     },
     "output_type": "display_data"
    }
   ],
   "source": [
    "stocks.plot(grid = True)"
   ]
  },
  {
   "cell_type": "markdown",
   "metadata": {},
   "source": [
    "### <p id=\"graphwith2yaxis\">Plot a graph with 2 Y axis</p>\n",
    "To observe the graphs of elements having different ranges we can use multiple Y axis to observer it in a better way. Secondary elements can be observed using the Y axis on the right side of the plot.\n",
    "[<div style=\"float:right;\">Go to Top</div>](#Top)"
   ]
  },
  {
   "cell_type": "code",
   "execution_count": 10,
   "metadata": {},
   "outputs": [
    {
     "data": {
      "text/plain": [
       "<matplotlib.axes._subplots.AxesSubplot at 0x7f7ceafef7b8>"
      ]
     },
     "execution_count": 10,
     "metadata": {},
     "output_type": "execute_result"
    },
    {
     "data": {
      "image/png": "[encoded data removed]",
      "text/plain": [
       "<Figure size 432x288 with 2 Axes>"
      ]
     },
     "metadata": {
      "needs_background": "light"
     },
     "output_type": "display_data"
    }
   ],
   "source": [
    "stocks.plot(secondary_y = [\"Cipla\", \"TechM\"], grid = True)"
   ]
  },
  {
   "cell_type": "markdown",
   "metadata": {},
   "source": [
    "### <p id=\"stockDeviation\">Check stock price deviation from original price</p>\n",
    "[<div style=\"float:right;margin-top:-50px\">Go to Top</div>](#Top)"
   ]
  },
  {
   "cell_type": "code",
   "execution_count": 11,
   "metadata": {},
   "outputs": [
    {
     "data": {
      "text/html": [
       "<div>\n",
       "<style scoped>\n",
       "    .dataframe tbody tr th:only-of-type {\n",
       "        vertical-align: middle;\n",
       "    }\n",
       "\n",
       "    .dataframe tbody tr th {\n",
       "        vertical-align: top;\n",
       "    }\n",
       "\n",
       "    .dataframe thead th {\n",
       "        text-align: right;\n",
       "    }\n",
       "</style>\n",
       "<table border=\"1\" class=\"dataframe\">\n",
       "  <thead>\n",
       "    <tr style=\"text-align: right;\">\n",
       "      <th></th>\n",
       "      <th>TechM</th>\n",
       "      <th>Cipla</th>\n",
       "      <th>DMart</th>\n",
       "    </tr>\n",
       "    <tr>\n",
       "      <th>Date</th>\n",
       "      <th></th>\n",
       "      <th></th>\n",
       "      <th></th>\n",
       "    </tr>\n",
       "  </thead>\n",
       "  <tbody>\n",
       "    <tr>\n",
       "      <th>2018-01-08</th>\n",
       "      <td>1.000000</td>\n",
       "      <td>1.000000</td>\n",
       "      <td>1.000000</td>\n",
       "    </tr>\n",
       "    <tr>\n",
       "      <th>2018-01-09</th>\n",
       "      <td>1.007602</td>\n",
       "      <td>1.002548</td>\n",
       "      <td>1.012313</td>\n",
       "    </tr>\n",
       "    <tr>\n",
       "      <th>2018-01-10</th>\n",
       "      <td>1.016255</td>\n",
       "      <td>1.006778</td>\n",
       "      <td>1.023073</td>\n",
       "    </tr>\n",
       "    <tr>\n",
       "      <th>2018-01-11</th>\n",
       "      <td>1.027390</td>\n",
       "      <td>1.005340</td>\n",
       "      <td>1.030119</td>\n",
       "    </tr>\n",
       "    <tr>\n",
       "      <th>2018-01-12</th>\n",
       "      <td>1.037055</td>\n",
       "      <td>1.004344</td>\n",
       "      <td>1.028656</td>\n",
       "    </tr>\n",
       "    <tr>\n",
       "      <th>2018-01-15</th>\n",
       "      <td>1.039901</td>\n",
       "      <td>1.002776</td>\n",
       "      <td>1.028997</td>\n",
       "    </tr>\n",
       "    <tr>\n",
       "      <th>2018-01-16</th>\n",
       "      <td>1.048993</td>\n",
       "      <td>0.998138</td>\n",
       "      <td>1.021170</td>\n",
       "    </tr>\n",
       "    <tr>\n",
       "      <th>2018-01-17</th>\n",
       "      <td>1.053883</td>\n",
       "      <td>0.994023</td>\n",
       "      <td>1.007553</td>\n",
       "    </tr>\n",
       "    <tr>\n",
       "      <th>2018-01-18</th>\n",
       "      <td>1.054246</td>\n",
       "      <td>0.991181</td>\n",
       "      <td>0.989265</td>\n",
       "    </tr>\n",
       "    <tr>\n",
       "      <th>2018-01-19</th>\n",
       "      <td>1.055067</td>\n",
       "      <td>0.988127</td>\n",
       "      <td>0.974268</td>\n",
       "    </tr>\n",
       "  </tbody>\n",
       "</table>\n",
       "</div>"
      ],
      "text/plain": [
       "               TechM     Cipla     DMart\n",
       "Date                                    \n",
       "2018-01-08  1.000000  1.000000  1.000000\n",
       "2018-01-09  1.007602  1.002548  1.012313\n",
       "2018-01-10  1.016255  1.006778  1.023073\n",
       "2018-01-11  1.027390  1.005340  1.030119\n",
       "2018-01-12  1.037055  1.004344  1.028656\n",
       "2018-01-15  1.039901  1.002776  1.028997\n",
       "2018-01-16  1.048993  0.998138  1.021170\n",
       "2018-01-17  1.053883  0.994023  1.007553\n",
       "2018-01-18  1.054246  0.991181  0.989265\n",
       "2018-01-19  1.055067  0.988127  0.974268"
      ]
     },
     "execution_count": 11,
     "metadata": {},
     "output_type": "execute_result"
    }
   ],
   "source": [
    "stock_return = stocks.apply(lambda x: x / x[0])\n",
    "stock_return.head(10)\n",
    "#stocks.head()"
   ]
  },
  {
   "cell_type": "code",
   "execution_count": 12,
   "metadata": {},
   "outputs": [
    {
     "data": {
      "text/plain": [
       "<matplotlib.lines.Line2D at 0x7f7ceaeb30f0>"
      ]
     },
     "execution_count": 12,
     "metadata": {},
     "output_type": "execute_result"
    },
    {
     "data": {
      "image/png": "[encoded data removed]",
      "text/plain": [
       "<Figure size 432x288 with 1 Axes>"
      ]
     },
     "metadata": {
      "needs_background": "light"
     },
     "output_type": "display_data"
    }
   ],
   "source": [
    "stock_return.plot(grid = True).axhline(y = 1, color = \"black\", lw = 2)"
   ]
  },
  {
   "cell_type": "markdown",
   "metadata": {},
   "source": [
    "### <p id=\"allStocks\">Merge all Stocks in a single DataFrame Object</p>\n",
    "[<div style=\"float:right;margin-top:-50px\">Go to Top</div>](#Top)"
   ]
  },
  {
   "cell_type": "code",
   "execution_count": 13,
   "metadata": {},
   "outputs": [
    {
     "data": {
      "text/html": [
       "<div>\n",
       "<style scoped>\n",
       "    .dataframe tbody tr th:only-of-type {\n",
       "        vertical-align: middle;\n",
       "    }\n",
       "\n",
       "    .dataframe tbody tr th {\n",
       "        vertical-align: top;\n",
       "    }\n",
       "\n",
       "    .dataframe thead tr th {\n",
       "        text-align: left;\n",
       "    }\n",
       "\n",
       "    .dataframe thead tr:last-of-type th {\n",
       "        text-align: right;\n",
       "    }\n",
       "</style>\n",
       "<table border=\"1\" class=\"dataframe\">\n",
       "  <thead>\n",
       "    <tr>\n",
       "      <th></th>\n",
       "      <th colspan=\"10\" halign=\"left\">TechM</th>\n",
       "      <th>...</th>\n",
       "      <th colspan=\"10\" halign=\"left\">DMart</th>\n",
       "    </tr>\n",
       "    <tr>\n",
       "      <th></th>\n",
       "      <th>Symbol</th>\n",
       "      <th>Series</th>\n",
       "      <th>Prev Close</th>\n",
       "      <th>Open</th>\n",
       "      <th>High</th>\n",
       "      <th>Low</th>\n",
       "      <th>Last</th>\n",
       "      <th>Close</th>\n",
       "      <th>VWAP</th>\n",
       "      <th>Volume</th>\n",
       "      <th>...</th>\n",
       "      <th>High</th>\n",
       "      <th>Low</th>\n",
       "      <th>Last</th>\n",
       "      <th>Close</th>\n",
       "      <th>VWAP</th>\n",
       "      <th>Volume</th>\n",
       "      <th>Turnover</th>\n",
       "      <th>Trades</th>\n",
       "      <th>Deliverable Volume</th>\n",
       "      <th>%Deliverble</th>\n",
       "    </tr>\n",
       "    <tr>\n",
       "      <th>Date</th>\n",
       "      <th></th>\n",
       "      <th></th>\n",
       "      <th></th>\n",
       "      <th></th>\n",
       "      <th></th>\n",
       "      <th></th>\n",
       "      <th></th>\n",
       "      <th></th>\n",
       "      <th></th>\n",
       "      <th></th>\n",
       "      <th></th>\n",
       "      <th></th>\n",
       "      <th></th>\n",
       "      <th></th>\n",
       "      <th></th>\n",
       "      <th></th>\n",
       "      <th></th>\n",
       "      <th></th>\n",
       "      <th></th>\n",
       "      <th></th>\n",
       "      <th></th>\n",
       "    </tr>\n",
       "  </thead>\n",
       "  <tbody>\n",
       "    <tr>\n",
       "      <th>2018-01-01</th>\n",
       "      <td>TECHM</td>\n",
       "      <td>EQ</td>\n",
       "      <td>504.05</td>\n",
       "      <td>501.1</td>\n",
       "      <td>508.7</td>\n",
       "      <td>500.05</td>\n",
       "      <td>503.55</td>\n",
       "      <td>503.10</td>\n",
       "      <td>503.71</td>\n",
       "      <td>1115837</td>\n",
       "      <td>...</td>\n",
       "      <td>1193.25</td>\n",
       "      <td>1166.00</td>\n",
       "      <td>1172.5</td>\n",
       "      <td>1170.50</td>\n",
       "      <td>1181.71</td>\n",
       "      <td>334392</td>\n",
       "      <td>3.951560e+13</td>\n",
       "      <td>9339</td>\n",
       "      <td>131250</td>\n",
       "      <td>0.3925</td>\n",
       "    </tr>\n",
       "    <tr>\n",
       "      <th>2018-01-02</th>\n",
       "      <td>TECHM</td>\n",
       "      <td>EQ</td>\n",
       "      <td>503.10</td>\n",
       "      <td>503.5</td>\n",
       "      <td>515.0</td>\n",
       "      <td>503.50</td>\n",
       "      <td>513.60</td>\n",
       "      <td>513.95</td>\n",
       "      <td>511.71</td>\n",
       "      <td>2204383</td>\n",
       "      <td>...</td>\n",
       "      <td>1178.20</td>\n",
       "      <td>1155.60</td>\n",
       "      <td>1160.7</td>\n",
       "      <td>1160.00</td>\n",
       "      <td>1164.69</td>\n",
       "      <td>302709</td>\n",
       "      <td>3.525631e+13</td>\n",
       "      <td>9423</td>\n",
       "      <td>98217</td>\n",
       "      <td>0.3245</td>\n",
       "    </tr>\n",
       "    <tr>\n",
       "      <th>2018-01-03</th>\n",
       "      <td>TECHM</td>\n",
       "      <td>EQ</td>\n",
       "      <td>513.95</td>\n",
       "      <td>516.1</td>\n",
       "      <td>525.0</td>\n",
       "      <td>515.70</td>\n",
       "      <td>517.55</td>\n",
       "      <td>519.45</td>\n",
       "      <td>521.47</td>\n",
       "      <td>2288877</td>\n",
       "      <td>...</td>\n",
       "      <td>1204.40</td>\n",
       "      <td>1160.00</td>\n",
       "      <td>1184.0</td>\n",
       "      <td>1184.55</td>\n",
       "      <td>1184.91</td>\n",
       "      <td>580610</td>\n",
       "      <td>6.879719e+13</td>\n",
       "      <td>18731</td>\n",
       "      <td>146459</td>\n",
       "      <td>0.2523</td>\n",
       "    </tr>\n",
       "    <tr>\n",
       "      <th>2018-01-04</th>\n",
       "      <td>TECHM</td>\n",
       "      <td>EQ</td>\n",
       "      <td>519.45</td>\n",
       "      <td>519.5</td>\n",
       "      <td>525.0</td>\n",
       "      <td>514.00</td>\n",
       "      <td>521.65</td>\n",
       "      <td>522.55</td>\n",
       "      <td>518.46</td>\n",
       "      <td>1460097</td>\n",
       "      <td>...</td>\n",
       "      <td>1215.00</td>\n",
       "      <td>1186.00</td>\n",
       "      <td>1199.5</td>\n",
       "      <td>1203.10</td>\n",
       "      <td>1204.56</td>\n",
       "      <td>707905</td>\n",
       "      <td>8.527130e+13</td>\n",
       "      <td>20998</td>\n",
       "      <td>192081</td>\n",
       "      <td>0.2713</td>\n",
       "    </tr>\n",
       "    <tr>\n",
       "      <th>2018-01-05</th>\n",
       "      <td>TECHM</td>\n",
       "      <td>EQ</td>\n",
       "      <td>522.55</td>\n",
       "      <td>521.0</td>\n",
       "      <td>527.0</td>\n",
       "      <td>514.85</td>\n",
       "      <td>524.95</td>\n",
       "      <td>525.45</td>\n",
       "      <td>521.80</td>\n",
       "      <td>1756809</td>\n",
       "      <td>...</td>\n",
       "      <td>1268.00</td>\n",
       "      <td>1208.55</td>\n",
       "      <td>1243.0</td>\n",
       "      <td>1243.40</td>\n",
       "      <td>1242.60</td>\n",
       "      <td>1244328</td>\n",
       "      <td>1.546206e+14</td>\n",
       "      <td>39621</td>\n",
       "      <td>375646</td>\n",
       "      <td>0.3019</td>\n",
       "    </tr>\n",
       "  </tbody>\n",
       "</table>\n",
       "<p>5 rows × 42 columns</p>\n",
       "</div>"
      ],
      "text/plain": [
       "            TechM                                                          \\\n",
       "           Symbol Series Prev Close   Open   High     Low    Last   Close   \n",
       "Date                                                                        \n",
       "2018-01-01  TECHM     EQ     504.05  501.1  508.7  500.05  503.55  503.10   \n",
       "2018-01-02  TECHM     EQ     503.10  503.5  515.0  503.50  513.60  513.95   \n",
       "2018-01-03  TECHM     EQ     513.95  516.1  525.0  515.70  517.55  519.45   \n",
       "2018-01-04  TECHM     EQ     519.45  519.5  525.0  514.00  521.65  522.55   \n",
       "2018-01-05  TECHM     EQ     522.55  521.0  527.0  514.85  524.95  525.45   \n",
       "\n",
       "                                ...        DMart                            \\\n",
       "              VWAP   Volume     ...         High      Low    Last    Close   \n",
       "Date                            ...                                          \n",
       "2018-01-01  503.71  1115837     ...      1193.25  1166.00  1172.5  1170.50   \n",
       "2018-01-02  511.71  2204383     ...      1178.20  1155.60  1160.7  1160.00   \n",
       "2018-01-03  521.47  2288877     ...      1204.40  1160.00  1184.0  1184.55   \n",
       "2018-01-04  518.46  1460097     ...      1215.00  1186.00  1199.5  1203.10   \n",
       "2018-01-05  521.80  1756809     ...      1268.00  1208.55  1243.0  1243.40   \n",
       "\n",
       "                                                                      \\\n",
       "               VWAP   Volume      Turnover Trades Deliverable Volume   \n",
       "Date                                                                   \n",
       "2018-01-01  1181.71   334392  3.951560e+13   9339             131250   \n",
       "2018-01-02  1164.69   302709  3.525631e+13   9423              98217   \n",
       "2018-01-03  1184.91   580610  6.879719e+13  18731             146459   \n",
       "2018-01-04  1204.56   707905  8.527130e+13  20998             192081   \n",
       "2018-01-05  1242.60  1244328  1.546206e+14  39621             375646   \n",
       "\n",
       "                        \n",
       "           %Deliverble  \n",
       "Date                    \n",
       "2018-01-01      0.3925  \n",
       "2018-01-02      0.3245  \n",
       "2018-01-03      0.2523  \n",
       "2018-01-04      0.2713  \n",
       "2018-01-05      0.3019  \n",
       "\n",
       "[5 rows x 42 columns]"
      ]
     },
     "execution_count": 13,
     "metadata": {},
     "output_type": "execute_result"
    }
   ],
   "source": [
    "ticker=['TechM','Cipla',\"DMart\"]\n",
    "all_stocks = pd.concat([techm,cipla,dmart], axis=1, keys=ticker)\n",
    "all_stocks.head()"
   ]
  },
  {
   "cell_type": "markdown",
   "metadata": {},
   "source": [
    "### <p id=\"CalculateReturns\">Calculate the returns for the stocks</p>\n",
    "returns=(Today’s close price - Yesterday’s close price)/ Yesterday’s close price\n",
    "[<div style=\"float:right\">Go to Top</div>](#Top)"
   ]
  },
  {
   "cell_type": "code",
   "execution_count": 14,
   "metadata": {},
   "outputs": [
    {
     "data": {
      "text/html": [
       "<div>\n",
       "<style scoped>\n",
       "    .dataframe tbody tr th:only-of-type {\n",
       "        vertical-align: middle;\n",
       "    }\n",
       "\n",
       "    .dataframe tbody tr th {\n",
       "        vertical-align: top;\n",
       "    }\n",
       "\n",
       "    .dataframe thead th {\n",
       "        text-align: right;\n",
       "    }\n",
       "</style>\n",
       "<table border=\"1\" class=\"dataframe\">\n",
       "  <thead>\n",
       "    <tr style=\"text-align: right;\">\n",
       "      <th></th>\n",
       "      <th>TechM Return</th>\n",
       "      <th>Cipla Return</th>\n",
       "      <th>DMart Return</th>\n",
       "    </tr>\n",
       "    <tr>\n",
       "      <th>Date</th>\n",
       "      <th></th>\n",
       "      <th></th>\n",
       "      <th></th>\n",
       "    </tr>\n",
       "  </thead>\n",
       "  <tbody>\n",
       "    <tr>\n",
       "      <th>2018-01-02</th>\n",
       "      <td>0.021566</td>\n",
       "      <td>-0.006051</td>\n",
       "      <td>-0.008971</td>\n",
       "    </tr>\n",
       "    <tr>\n",
       "      <th>2018-01-03</th>\n",
       "      <td>0.010701</td>\n",
       "      <td>-0.001645</td>\n",
       "      <td>0.021164</td>\n",
       "    </tr>\n",
       "    <tr>\n",
       "      <th>2018-01-04</th>\n",
       "      <td>0.005968</td>\n",
       "      <td>0.016397</td>\n",
       "      <td>0.015660</td>\n",
       "    </tr>\n",
       "    <tr>\n",
       "      <th>2018-01-05</th>\n",
       "      <td>0.005550</td>\n",
       "      <td>-0.002594</td>\n",
       "      <td>0.033497</td>\n",
       "    </tr>\n",
       "    <tr>\n",
       "      <th>2018-01-08</th>\n",
       "      <td>0.020649</td>\n",
       "      <td>-0.000163</td>\n",
       "      <td>-0.013350</td>\n",
       "    </tr>\n",
       "  </tbody>\n",
       "</table>\n",
       "</div>"
      ],
      "text/plain": [
       "            TechM Return  Cipla Return  DMart Return\n",
       "Date                                                \n",
       "2018-01-02      0.021566     -0.006051     -0.008971\n",
       "2018-01-03      0.010701     -0.001645      0.021164\n",
       "2018-01-04      0.005968      0.016397      0.015660\n",
       "2018-01-05      0.005550     -0.002594      0.033497\n",
       "2018-01-08      0.020649     -0.000163     -0.013350"
      ]
     },
     "execution_count": 14,
     "metadata": {},
     "output_type": "execute_result"
    }
   ],
   "source": [
    "returns = pd.DataFrame()\n",
    "\n",
    "for i in ticker:\n",
    "    returns[i + ' Return'] = all_stocks.xs((i, 'Close'), axis=1).pct_change()\n",
    "\n",
    "returns.dropna(inplace=True)\n",
    "\n",
    "returns.head()"
   ]
  },
  {
   "cell_type": "markdown",
   "metadata": {},
   "source": [
    "### <p id =\"pairplot\">Pairplot for returns</p>\n",
    "[<div style=\"float:right;margin-top:-50px\">Go to Top</div>](#Top)"
   ]
  },
  {
   "cell_type": "code",
   "execution_count": 15,
   "metadata": {},
   "outputs": [
    {
     "data": {
      "text/plain": [
       "<seaborn.axisgrid.PairGrid at 0x7f7ceae9f438>"
      ]
     },
     "execution_count": 15,
     "metadata": {},
     "output_type": "execute_result"
    },
    {
     "data": {
      "image/png": "[encoded data removed]",
      "text/plain": [
       "<Figure size 540x540 with 12 Axes>"
      ]
     },
     "metadata": {
      "needs_background": "light"
     },
     "output_type": "display_data"
    }
   ],
   "source": [
    "sns.pairplot(returns)"
   ]
  },
  {
   "cell_type": "code",
   "execution_count": 16,
   "metadata": {},
   "outputs": [
    {
     "data": {
      "text/plain": [
       "TechM Return    2018-06-28\n",
       "Cipla Return    2018-11-05\n",
       "DMart Return    2018-12-24\n",
       "dtype: object"
      ]
     },
     "execution_count": 16,
     "metadata": {},
     "output_type": "execute_result"
    }
   ],
   "source": [
    "returns.idxmin()"
   ]
  },
  {
   "cell_type": "code",
   "execution_count": 17,
   "metadata": {},
   "outputs": [
    {
     "data": {
      "text/plain": [
       "TechM Return    2018-10-31\n",
       "Cipla Return    2018-02-08\n",
       "DMart Return    2018-11-02\n",
       "dtype: object"
      ]
     },
     "execution_count": 17,
     "metadata": {},
     "output_type": "execute_result"
    }
   ],
   "source": [
    "returns.idxmax()"
   ]
  },
  {
   "cell_type": "code",
   "execution_count": 18,
   "metadata": {},
   "outputs": [
    {
     "data": {
      "text/plain": [
       "TechM Return    0.019289\n",
       "Cipla Return    0.016975\n",
       "DMart Return    0.021383\n",
       "dtype: float64"
      ]
     },
     "execution_count": 18,
     "metadata": {},
     "output_type": "execute_result"
    }
   ],
   "source": [
    "returns.std()"
   ]
  },
  {
   "cell_type": "code",
   "execution_count": 19,
   "metadata": {},
   "outputs": [
    {
     "data": {
      "text/html": [
       "<div>\n",
       "<style scoped>\n",
       "    .dataframe tbody tr th:only-of-type {\n",
       "        vertical-align: middle;\n",
       "    }\n",
       "\n",
       "    .dataframe tbody tr th {\n",
       "        vertical-align: top;\n",
       "    }\n",
       "\n",
       "    .dataframe thead th {\n",
       "        text-align: right;\n",
       "    }\n",
       "</style>\n",
       "<table border=\"1\" class=\"dataframe\">\n",
       "  <thead>\n",
       "    <tr style=\"text-align: right;\">\n",
       "      <th></th>\n",
       "      <th>TechM Return</th>\n",
       "      <th>Cipla Return</th>\n",
       "      <th>DMart Return</th>\n",
       "    </tr>\n",
       "  </thead>\n",
       "  <tbody>\n",
       "    <tr>\n",
       "      <th>count</th>\n",
       "      <td>246.000000</td>\n",
       "      <td>246.000000</td>\n",
       "      <td>246.000000</td>\n",
       "    </tr>\n",
       "    <tr>\n",
       "      <th>mean</th>\n",
       "      <td>0.001638</td>\n",
       "      <td>-0.000492</td>\n",
       "      <td>0.001474</td>\n",
       "    </tr>\n",
       "    <tr>\n",
       "      <th>std</th>\n",
       "      <td>0.019289</td>\n",
       "      <td>0.016975</td>\n",
       "      <td>0.021383</td>\n",
       "    </tr>\n",
       "    <tr>\n",
       "      <th>min</th>\n",
       "      <td>-0.070004</td>\n",
       "      <td>-0.072558</td>\n",
       "      <td>-0.062102</td>\n",
       "    </tr>\n",
       "    <tr>\n",
       "      <th>25%</th>\n",
       "      <td>-0.010155</td>\n",
       "      <td>-0.009854</td>\n",
       "      <td>-0.010037</td>\n",
       "    </tr>\n",
       "    <tr>\n",
       "      <th>50%</th>\n",
       "      <td>0.001289</td>\n",
       "      <td>-0.001806</td>\n",
       "      <td>-0.000182</td>\n",
       "    </tr>\n",
       "    <tr>\n",
       "      <th>75%</th>\n",
       "      <td>0.013837</td>\n",
       "      <td>0.007430</td>\n",
       "      <td>0.010685</td>\n",
       "    </tr>\n",
       "    <tr>\n",
       "      <th>max</th>\n",
       "      <td>0.085827</td>\n",
       "      <td>0.076241</td>\n",
       "      <td>0.070566</td>\n",
       "    </tr>\n",
       "  </tbody>\n",
       "</table>\n",
       "</div>"
      ],
      "text/plain": [
       "       TechM Return  Cipla Return  DMart Return\n",
       "count    246.000000    246.000000    246.000000\n",
       "mean       0.001638     -0.000492      0.001474\n",
       "std        0.019289      0.016975      0.021383\n",
       "min       -0.070004     -0.072558     -0.062102\n",
       "25%       -0.010155     -0.009854     -0.010037\n",
       "50%        0.001289     -0.001806     -0.000182\n",
       "75%        0.013837      0.007430      0.010685\n",
       "max        0.085827      0.076241      0.070566"
      ]
     },
     "execution_count": 19,
     "metadata": {},
     "output_type": "execute_result"
    }
   ],
   "source": [
    "returns.describe()"
   ]
  },
  {
   "cell_type": "markdown",
   "metadata": {},
   "source": [
    "### <p id=\"correlation\">Calculate correlation for returns of the stocks</p>\n",
    "[<div style=\"float:right;margin-top:-50px\">Go to Top</div>](#Top)"
   ]
  },
  {
   "cell_type": "code",
   "execution_count": 20,
   "metadata": {},
   "outputs": [
    {
     "data": {
      "text/html": [
       "<div>\n",
       "<style scoped>\n",
       "    .dataframe tbody tr th:only-of-type {\n",
       "        vertical-align: middle;\n",
       "    }\n",
       "\n",
       "    .dataframe tbody tr th {\n",
       "        vertical-align: top;\n",
       "    }\n",
       "\n",
       "    .dataframe thead th {\n",
       "        text-align: right;\n",
       "    }\n",
       "</style>\n",
       "<table border=\"1\" class=\"dataframe\">\n",
       "  <thead>\n",
       "    <tr style=\"text-align: right;\">\n",
       "      <th></th>\n",
       "      <th>TechM</th>\n",
       "      <th>Cipla</th>\n",
       "      <th>DMart</th>\n",
       "    </tr>\n",
       "  </thead>\n",
       "  <tbody>\n",
       "    <tr>\n",
       "      <th>TechM</th>\n",
       "      <td>1.000000</td>\n",
       "      <td>0.020712</td>\n",
       "      <td>0.612512</td>\n",
       "    </tr>\n",
       "    <tr>\n",
       "      <th>Cipla</th>\n",
       "      <td>0.020712</td>\n",
       "      <td>1.000000</td>\n",
       "      <td>-0.016901</td>\n",
       "    </tr>\n",
       "    <tr>\n",
       "      <th>DMart</th>\n",
       "      <td>0.612512</td>\n",
       "      <td>-0.016901</td>\n",
       "      <td>1.000000</td>\n",
       "    </tr>\n",
       "  </tbody>\n",
       "</table>\n",
       "</div>"
      ],
      "text/plain": [
       "          TechM     Cipla     DMart\n",
       "TechM  1.000000  0.020712  0.612512\n",
       "Cipla  0.020712  1.000000 -0.016901\n",
       "DMart  0.612512 -0.016901  1.000000"
      ]
     },
     "execution_count": 20,
     "metadata": {},
     "output_type": "execute_result"
    }
   ],
   "source": [
    "stock_close = all_stocks.xs('Close', level=1, axis=1)\n",
    "\n",
    "all_close_corr = stock_close.corr()\n",
    "all_close_corr"
   ]
  },
  {
   "cell_type": "markdown",
   "metadata": {},
   "source": [
    "### <p id=\"Heatmap\">Heatmap & cluster heatmap for returns correlation</p>\n",
    "[<div style=\"float:right;margin-top:-50px\">Go to Top</div>](#Top)"
   ]
  },
  {
   "cell_type": "code",
   "execution_count": 21,
   "metadata": {},
   "outputs": [
    {
     "data": {
      "text/plain": [
       "<matplotlib.axes._subplots.AxesSubplot at 0x7f7ceb2a5b38>"
      ]
     },
     "execution_count": 21,
     "metadata": {},
     "output_type": "execute_result"
    },
    {
     "data": {
      "image/png": "[encoded data removed]",
      "text/plain": [
       "<Figure size 432x288 with 2 Axes>"
      ]
     },
     "metadata": {
      "needs_background": "light"
     },
     "output_type": "display_data"
    }
   ],
   "source": [
    "sns.heatmap(all_close_corr, annot = True, cmap='coolwarm')"
   ]
  },
  {
   "cell_type": "code",
   "execution_count": 22,
   "metadata": {},
   "outputs": [
    {
     "data": {
      "text/plain": [
       "<seaborn.matrix.ClusterGrid at 0x7f7ceb1a1c88>"
      ]
     },
     "execution_count": 22,
     "metadata": {},
     "output_type": "execute_result"
    },
    {
     "data": {
      "image/png": "[encoded data removed]",
      "text/plain": [
       "<Figure size 720x720 with 4 Axes>"
      ]
     },
     "metadata": {
      "needs_background": "light"
     },
     "output_type": "display_data"
    }
   ],
   "source": [
    "sns.clustermap(all_close_corr, annot = True, cmap='coolwarm')"
   ]
  }
 ],
 "metadata": {
  "kernelspec": {
   "display_name": "Python 2",
   "language": "python",
   "name": "python2"
  },
  "language_info": {
   "codemirror_mode": {
    "name": "ipython",
    "version": 3
   },
   "file_extension": ".py",
   "mimetype": "text/x-python",
   "name": "python",
   "nbconvert_exporter": "python",
   "pygments_lexer": "ipython3",
   "version": "3.6.7"
  }
 },
 "nbformat": 4,
 "nbformat_minor": 2
}
